{
 "cells": [
  {
   "cell_type": "code",
   "execution_count": 14,
   "metadata": {},
   "outputs": [
    {
     "name": "stderr",
     "output_type": "stream",
     "text": [
      "I0221 00:36:37.167150 140352028514112 tokenization_utils.py:375] loading file https://s3.amazonaws.com/models.huggingface.co/bert/bert-base-uncased-vocab.txt from cache at /home/ds_user1/.cache/torch/transformers/26bc1ad6c0ac742e9b52263248f6d0f00068293b33709fae12320c0e35ccfbbb.542ce4285a40d23a559526243235df47c5f75c197f04f37d1a0c124c32c9a084\n",
      "I0221 00:36:38.043068 140352028514112 configuration_utils.py:152] loading configuration file https://s3.amazonaws.com/models.huggingface.co/bert/bert-base-uncased-config.json from cache at /home/ds_user1/.cache/torch/transformers/4dad0251492946e18ac39290fcfe91b89d370fee250efe9521476438fe8ca185.8f56353af4a709bf5ff0fbc915d8f5b42bfff892cbb6ac98c3c45f481a03c685\n",
      "I0221 00:36:38.044624 140352028514112 configuration_utils.py:169] Model config {\n",
      "  \"architectures\": [\n",
      "    \"BertForMaskedLM\"\n",
      "  ],\n",
      "  \"attention_probs_dropout_prob\": 0.1,\n",
      "  \"finetuning_task\": null,\n",
      "  \"hidden_act\": \"gelu\",\n",
      "  \"hidden_dropout_prob\": 0.1,\n",
      "  \"hidden_size\": 768,\n",
      "  \"initializer_range\": 0.02,\n",
      "  \"intermediate_size\": 3072,\n",
      "  \"is_decoder\": false,\n",
      "  \"layer_norm_eps\": 1e-12,\n",
      "  \"max_position_embeddings\": 512,\n",
      "  \"num_attention_heads\": 12,\n",
      "  \"num_hidden_layers\": 12,\n",
      "  \"num_labels\": 2,\n",
      "  \"output_attentions\": false,\n",
      "  \"output_hidden_states\": false,\n",
      "  \"output_past\": true,\n",
      "  \"pruned_heads\": {},\n",
      "  \"torchscript\": false,\n",
      "  \"type_vocab_size\": 2,\n",
      "  \"use_bfloat16\": false,\n",
      "  \"vocab_size\": 30522\n",
      "}\n",
      "\n",
      "I0221 00:36:38.814220 140352028514112 modeling_utils.py:387] loading weights file https://s3.amazonaws.com/models.huggingface.co/bert/bert-base-uncased-pytorch_model.bin from cache at /home/ds_user1/.cache/torch/transformers/aa1ef1aede4482d0dbcd4d52baad8ae300e60902e88fcb0bebdec09afd232066.36ca03ab34a1a5d5fa7bc3d03d55c4fa650fed07220e2eeebc06ce58d0e9a157\n"
     ]
    },
    {
     "name": "stdout",
     "output_type": "stream",
     "text": [
      "ok\n"
     ]
    }
   ],
   "source": [
    "from bert_model import *\n",
    "my_model = mymodel().cuda()\n",
    "my_model.eval()\n",
    "my_model.load_state_dict(torch.load('./bert_models/300000_3/bert_model_3'))\n",
    "print('ok')"
   ]
  },
  {
   "cell_type": "code",
   "execution_count": 15,
   "metadata": {},
   "outputs": [],
   "source": [
    "# for name, param in my_model.named_parameters():\n",
    "#     if name == 'bert_model.encoder.layer.0.output.dense.weight':\n",
    "#         print(name, param)"
   ]
  },
  {
   "cell_type": "code",
   "execution_count": 16,
   "metadata": {},
   "outputs": [],
   "source": [
    "# bert_model.encoder.layer.0.output.dense.weight Parameter containing:\n",
    "# tensor([[-0.0333, -0.0190,  0.0265,  ..., -0.0130,  0.0115,  0.0161],\n",
    "#         [ 0.0640, -0.0089,  0.0477,  ..., -0.0030, -0.0221, -0.0010],\n",
    "#         [ 0.0079, -0.0664,  0.0376,  ..., -0.0074,  0.0331,  0.0072],\n",
    "#         ...,\n",
    "#         [-0.0418, -0.0180,  0.0137,  ...,  0.0055,  0.0115,  0.0171],\n",
    "#         [-0.0680,  0.0345,  0.0284,  ..., -0.0022, -0.0586,  0.0527],\n",
    "#         [-0.0534,  0.0009,  0.0019,  ...,  0.0273, -0.0012,  0.0242]],\n",
    "#        device='cuda:0', requires_grad=True)"
   ]
  },
  {
   "cell_type": "code",
   "execution_count": 17,
   "metadata": {},
   "outputs": [],
   "source": [
    "f_label = open('main_action.txt')\n",
    "labels = f_label.readlines()\n",
    "gts = [x.strip() for x in labels]"
   ]
  },
  {
   "cell_type": "code",
   "execution_count": 18,
   "metadata": {},
   "outputs": [],
   "source": [
    "f = open('test_set_31898.txt')\n",
    "texts = f.readlines()"
   ]
  },
  {
   "cell_type": "code",
   "execution_count": 19,
   "metadata": {},
   "outputs": [
    {
     "name": "stdout",
     "output_type": "stream",
     "text": [
      "97.03743181390682\n"
     ]
    }
   ],
   "source": [
    "acc = 0\n",
    "for i in range(len(texts)):\n",
    "    label = texts[i].split('\\t')[0]    \n",
    "    sen = texts[i].split('\\t')[1].strip()\n",
    "    \n",
    "    label_idx = gts.index(label)\n",
    "    torch_label = torch.from_numpy(np.asarray([label_idx])).cuda() \n",
    "    \n",
    "    bert_out = my_model.bert_layer(sen) # (batch, seq_len, emb_dim)    \n",
    "#     model_out = model(sen_idx)[0] \n",
    "    fc_out = my_model.fc_layer(bert_out)\n",
    "    cls_out = fc_out[:,0:1,:].squeeze(1)\n",
    "    \n",
    "    pred = cls_out.argmax(1).item()\n",
    "    \n",
    "    if pred == label_idx:\n",
    "        acc += 1\n",
    "print(acc/len(texts)*100)"
   ]
  },
  {
   "cell_type": "code",
   "execution_count": null,
   "metadata": {},
   "outputs": [],
   "source": [
    "# 100000: 96.57345288105837\n",
    "# 200000: 96.28816853721236\n",
    "# 300000: 97.03743181390682"
   ]
  },
  {
   "cell_type": "code",
   "execution_count": null,
   "metadata": {},
   "outputs": [],
   "source": [
    "f2 = open('corpus_100000.txt')\n",
    "texts2 = f2.readlines()"
   ]
  },
  {
   "cell_type": "code",
   "execution_count": null,
   "metadata": {},
   "outputs": [],
   "source": [
    "acc = 0\n",
    "for i in range(len(texts2)):\n",
    "    label = texts2[i].split('\\t')[0]    \n",
    "    sen = texts2[i].split('\\t')[1].strip()\n",
    "    \n",
    "    label_idx = gts.index(label)\n",
    "    torch_label = torch.from_numpy(np.asarray([label_idx])).cuda() \n",
    "    \n",
    "    bert_out = my_model.bert_layer(sen) # (batch, seq_len, emb_dim)    \n",
    "#     model_out = model(sen_idx)[0] \n",
    "    fc_out = my_model.fc_layer(bert_out)\n",
    "    cls_out = fc_out[:,0:1,:].squeeze(1)\n",
    "    \n",
    "    pred = cls_out.argmax(1).item()\n",
    "    \n",
    "    if pred == label_idx:\n",
    "        acc += 1\n",
    "print(acc/len(texts2)*100)    "
   ]
  },
  {
   "cell_type": "code",
   "execution_count": null,
   "metadata": {},
   "outputs": [],
   "source": [
    "import torch\n",
    "print(torch.__version__)"
   ]
  },
  {
   "cell_type": "code",
   "execution_count": null,
   "metadata": {},
   "outputs": [],
   "source": []
  }
 ],
 "metadata": {
  "kernelspec": {
   "display_name": "Python 3",
   "language": "python",
   "name": "python3"
  },
  "language_info": {
   "codemirror_mode": {
    "name": "ipython",
    "version": 3
   },
   "file_extension": ".py",
   "mimetype": "text/x-python",
   "name": "python",
   "nbconvert_exporter": "python",
   "pygments_lexer": "ipython3",
   "version": "3.6.8"
  }
 },
 "nbformat": 4,
 "nbformat_minor": 4
}
